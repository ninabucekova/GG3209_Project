{
 "cells": [
  {
   "cell_type": "markdown",
   "id": "d2d912d3-2595-43f5-98a1-aa10cb8ce83c",
   "metadata": {},
   "source": [
    "## Independent Research Project"
   ]
  },
  {
   "cell_type": "markdown",
   "id": "3163745c-3728-4075-b309-16811624912e",
   "metadata": {},
   "source": [
    "Import packages for analyses of geospatial data."
   ]
  },
  {
   "cell_type": "code",
   "execution_count": 1,
   "id": "a3648916-f6ea-4da2-904c-06f80f583f9a",
   "metadata": {},
   "outputs": [
    {
     "name": "stderr",
     "output_type": "stream",
     "text": [
      "C:\\Users\\ibuce\\AppData\\Local\\Temp\\ipykernel_20104\\1167404010.py:4: UserWarning: Shapely 2.0 is installed, but because PyGEOS is also installed, GeoPandas will still use PyGEOS by default for now. To force to use and test Shapely 2.0, you have to set the environment variable USE_PYGEOS=0. You can do this before starting the Python process, or in your code before importing geopandas:\n",
      "\n",
      "import os\n",
      "os.environ['USE_PYGEOS'] = '0'\n",
      "import geopandas\n",
      "\n",
      "In a future release, GeoPandas will switch to using Shapely by default. If you are using PyGEOS directly (calling PyGEOS functions on geometries from GeoPandas), this will then stop working and you are encouraged to migrate from PyGEOS to Shapely 2.0 (https://shapely.readthedocs.io/en/latest/migration_pygeos.html).\n",
      "  import geopandas as gpd\n"
     ]
    }
   ],
   "source": [
    "import numpy as np\n",
    "import pandas as pd\n",
    "\n",
    "import geopandas as gpd\n",
    "\n",
    "import seaborn as sns\n",
    "import matplotlib.pyplot as plt\n",
    "from matplotlib.pyplot import cm\n",
    "\n",
    "import geoplot as gplt\n",
    "import geoplot.crs as gcrs"
   ]
  },
  {
   "cell_type": "code",
   "execution_count": 9,
   "id": "c47e8613-c65a-43ff-961c-e7090169248b",
   "metadata": {},
   "outputs": [
    {
     "data": {
      "text/plain": [
       "<AxesSubplot: >"
      ]
     },
     "execution_count": 9,
     "metadata": {},
     "output_type": "execute_result"
    },
    {
     "data": {
      "image/png": "[encoded data removed]",
      "text/plain": [
       "<Figure size 640x480 with 1 Axes>"
      ]
     },
     "metadata": {},
     "output_type": "display_data"
    }
   ],
   "source": [
    "# read data\n",
    "nuts = gpd.read_file(\"NUTS_RG_20M_2021_3035.shp\")\n",
    "nuts.plot()"
   ]
  },
  {
   "cell_type": "code",
   "execution_count": 7,
   "id": "d3592ada-f201-4e0b-a2d0-80d1b0fe3d35",
   "metadata": {},
   "outputs": [
    {
     "data": {
      "text/html": [
       "<div>\n",
       "<style scoped>\n",
       "    .dataframe tbody tr th:only-of-type {\n",
       "        vertical-align: middle;\n",
       "    }\n",
       "\n",
       "    .dataframe tbody tr th {\n",
       "        vertical-align: top;\n",
       "    }\n",
       "\n",
       "    .dataframe thead th {\n",
       "        text-align: right;\n",
       "    }\n",
       "</style>\n",
       "<table border=\"1\" class=\"dataframe\">\n",
       "  <thead>\n",
       "    <tr style=\"text-align: right;\">\n",
       "      <th></th>\n",
       "      <th>NUTS_ID</th>\n",
       "      <th>LEVL_CODE</th>\n",
       "      <th>CNTR_CODE</th>\n",
       "      <th>NAME_LATN</th>\n",
       "      <th>NUTS_NAME</th>\n",
       "      <th>MOUNT_TYPE</th>\n",
       "      <th>URBN_TYPE</th>\n",
       "      <th>COAST_TYPE</th>\n",
       "      <th>FID</th>\n",
       "      <th>geometry</th>\n",
       "    </tr>\n",
       "  </thead>\n",
       "  <tbody>\n",
       "    <tr>\n",
       "      <th>0</th>\n",
       "      <td>FR</td>\n",
       "      <td>0</td>\n",
       "      <td>FR</td>\n",
       "      <td>France</td>\n",
       "      <td>France</td>\n",
       "      <td>0.0</td>\n",
       "      <td>0</td>\n",
       "      <td>0</td>\n",
       "      <td>FR</td>\n",
       "      <td>MULTIPOLYGON (((9954236.116 -3059379.316, 9961...</td>\n",
       "    </tr>\n",
       "    <tr>\n",
       "      <th>1</th>\n",
       "      <td>HR</td>\n",
       "      <td>0</td>\n",
       "      <td>HR</td>\n",
       "      <td>Hrvatska</td>\n",
       "      <td>Hrvatska</td>\n",
       "      <td>0.0</td>\n",
       "      <td>0</td>\n",
       "      <td>0</td>\n",
       "      <td>HR</td>\n",
       "      <td>MULTIPOLYGON (((4827385.889 2618351.326, 48483...</td>\n",
       "    </tr>\n",
       "    <tr>\n",
       "      <th>2</th>\n",
       "      <td>HU</td>\n",
       "      <td>0</td>\n",
       "      <td>HU</td>\n",
       "      <td>Magyarország</td>\n",
       "      <td>Magyarország</td>\n",
       "      <td>0.0</td>\n",
       "      <td>0</td>\n",
       "      <td>0</td>\n",
       "      <td>HU</td>\n",
       "      <td>POLYGON ((5214660.069 2880853.832, 5216710.220...</td>\n",
       "    </tr>\n",
       "    <tr>\n",
       "      <th>3</th>\n",
       "      <td>AL</td>\n",
       "      <td>0</td>\n",
       "      <td>AL</td>\n",
       "      <td>Shqipëria</td>\n",
       "      <td>Shqipëria</td>\n",
       "      <td>0.0</td>\n",
       "      <td>0</td>\n",
       "      <td>0</td>\n",
       "      <td>AL</td>\n",
       "      <td>POLYGON ((5129579.170 2204098.752, 5148385.473...</td>\n",
       "    </tr>\n",
       "    <tr>\n",
       "      <th>4</th>\n",
       "      <td>AT</td>\n",
       "      <td>0</td>\n",
       "      <td>AT</td>\n",
       "      <td>Österreich</td>\n",
       "      <td>Österreich</td>\n",
       "      <td>0.0</td>\n",
       "      <td>0</td>\n",
       "      <td>0</td>\n",
       "      <td>AT</td>\n",
       "      <td>POLYGON ((4742889.368 2876362.725, 4783217.798...</td>\n",
       "    </tr>\n",
       "  </tbody>\n",
       "</table>\n",
       "</div>"
      ],
      "text/plain": [
       "  NUTS_ID  LEVL_CODE CNTR_CODE     NAME_LATN     NUTS_NAME  MOUNT_TYPE  \\\n",
       "0      FR          0        FR        France        France         0.0   \n",
       "1      HR          0        HR      Hrvatska      Hrvatska         0.0   \n",
       "2      HU          0        HU  Magyarország  Magyarország         0.0   \n",
       "3      AL          0        AL     Shqipëria     Shqipëria         0.0   \n",
       "4      AT          0        AT    Österreich    Österreich         0.0   \n",
       "\n",
       "   URBN_TYPE  COAST_TYPE FID  \\\n",
       "0          0           0  FR   \n",
       "1          0           0  HR   \n",
       "2          0           0  HU   \n",
       "3          0           0  AL   \n",
       "4          0           0  AT   \n",
       "\n",
       "                                            geometry  \n",
       "0  MULTIPOLYGON (((9954236.116 -3059379.316, 9961...  \n",
       "1  MULTIPOLYGON (((4827385.889 2618351.326, 48483...  \n",
       "2  POLYGON ((5214660.069 2880853.832, 5216710.220...  \n",
       "3  POLYGON ((5129579.170 2204098.752, 5148385.473...  \n",
       "4  POLYGON ((4742889.368 2876362.725, 4783217.798...  "
      ]
     },
     "execution_count": 7,
     "metadata": {},
     "output_type": "execute_result"
    }
   ],
   "source": [
    "nuts.head()"
   ]
  },
  {
   "cell_type": "code",
   "execution_count": null,
   "id": "f382a3f6-aa08-4ded-8e25-be6bf0acf3fb",
   "metadata": {},
   "outputs": [],
   "source": []
  }
 ],
 "metadata": {
  "kernelspec": {
   "display_name": "Python 3 (ipykernel)",
   "language": "python",
   "name": "python3"
  },
  "language_info": {
   "codemirror_mode": {
    "name": "ipython",
    "version": 3
   },
   "file_extension": ".py",
   "mimetype": "text/x-python",
   "name": "python",
   "nbconvert_exporter": "python",
   "pygments_lexer": "ipython3",
   "version": "3.10.9"
  }
 },
 "nbformat": 4,
 "nbformat_minor": 5
}
